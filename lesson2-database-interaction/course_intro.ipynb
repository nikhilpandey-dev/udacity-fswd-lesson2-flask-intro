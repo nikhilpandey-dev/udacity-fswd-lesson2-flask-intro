{
 "cells": [
  {
   "cell_type": "markdown",
   "metadata": {},
   "source": []
  }
 ],
 "metadata": {
  "interpreter": {
   "hash": "a4eba70082628ad18329da1d0659c989fe308b1851fd9c29ee2dac1bcf046254"
  },
  "kernelspec": {
   "display_name": "Python 3.9.9 64-bit ('base': conda)",
   "language": "python",
   "name": "python3"
  },
  "language_info": {
   "name": "python",
   "version": "3.9.9"
  },
  "orig_nbformat": 4
 },
 "nbformat": 4,
 "nbformat_minor": 2
}
